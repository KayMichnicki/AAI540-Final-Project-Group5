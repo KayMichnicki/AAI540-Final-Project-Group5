{
 "cells": [
  {
   "cell_type": "markdown",
   "id": "771c8cd5-3128-443d-a242-6c649654eddd",
   "metadata": {},
   "source": [
    "# Data Exploration Notebook"
   ]
  },
  {
   "cell_type": "markdown",
   "id": "3014c158-1029-4249-b126-acf722675beb",
   "metadata": {},
   "source": [
    "## Import Libraries & Data"
   ]
  },
  {
   "cell_type": "code",
   "execution_count": 2,
   "id": "3a294df6-a61a-48bf-8291-dca7cf4ef765",
   "metadata": {
    "execution": {
     "iopub.execute_input": "2025-09-20T22:02:02.303868Z",
     "iopub.status.busy": "2025-09-20T22:02:02.303333Z",
     "iopub.status.idle": "2025-09-20T22:02:04.930764Z",
     "shell.execute_reply": "2025-09-20T22:02:04.929402Z",
     "shell.execute_reply.started": "2025-09-20T22:02:02.303841Z"
    }
   },
   "outputs": [],
   "source": [
    "import pandas as pd, matplotlib as plt, seaborn as sbn, numpy as np"
   ]
  },
  {
   "cell_type": "code",
   "execution_count": 3,
   "id": "02330b27-b83b-4b23-94e2-40a4304bf97d",
   "metadata": {
    "execution": {
     "iopub.execute_input": "2025-09-20T22:04:11.412653Z",
     "iopub.status.busy": "2025-09-20T22:04:11.412381Z",
     "iopub.status.idle": "2025-09-20T22:04:14.268887Z",
     "shell.execute_reply": "2025-09-20T22:04:14.268011Z",
     "shell.execute_reply.started": "2025-09-20T22:04:11.412633Z"
    }
   },
   "outputs": [
    {
     "name": "stdout",
     "output_type": "stream",
     "text": [
      "Collecting kaggle\n",
      "  Downloading kaggle-1.7.4.5-py3-none-any.whl.metadata (16 kB)\n",
      "Requirement already satisfied: bleach in /opt/conda/lib/python3.12/site-packages (from kaggle) (6.2.0)\n",
      "Requirement already satisfied: certifi>=14.05.14 in /opt/conda/lib/python3.12/site-packages (from kaggle) (2025.8.3)\n",
      "Requirement already satisfied: charset-normalizer in /opt/conda/lib/python3.12/site-packages (from kaggle) (3.4.3)\n",
      "Requirement already satisfied: idna in /opt/conda/lib/python3.12/site-packages (from kaggle) (3.10)\n",
      "Requirement already satisfied: protobuf in /opt/conda/lib/python3.12/site-packages (from kaggle) (5.28.3)\n",
      "Requirement already satisfied: python-dateutil>=2.5.3 in /opt/conda/lib/python3.12/site-packages (from kaggle) (2.9.0.post0)\n",
      "Requirement already satisfied: python-slugify in /opt/conda/lib/python3.12/site-packages (from kaggle) (8.0.4)\n",
      "Requirement already satisfied: requests in /opt/conda/lib/python3.12/site-packages (from kaggle) (2.32.4)\n",
      "Requirement already satisfied: setuptools>=21.0.0 in /opt/conda/lib/python3.12/site-packages (from kaggle) (80.9.0)\n",
      "Requirement already satisfied: six>=1.10 in /opt/conda/lib/python3.12/site-packages (from kaggle) (1.17.0)\n",
      "Requirement already satisfied: text-unidecode in /opt/conda/lib/python3.12/site-packages (from kaggle) (1.3)\n",
      "Requirement already satisfied: tqdm in /opt/conda/lib/python3.12/site-packages (from kaggle) (4.67.1)\n",
      "Requirement already satisfied: urllib3>=1.15.1 in /opt/conda/lib/python3.12/site-packages (from kaggle) (1.26.19)\n",
      "Requirement already satisfied: webencodings in /opt/conda/lib/python3.12/site-packages (from kaggle) (0.5.1)\n",
      "Downloading kaggle-1.7.4.5-py3-none-any.whl (181 kB)\n",
      "Installing collected packages: kaggle\n",
      "Successfully installed kaggle-1.7.4.5\n"
     ]
    }
   ],
   "source": [
    "!pip install kaggle"
   ]
  },
  {
   "cell_type": "code",
   "execution_count": 5,
   "id": "918e31d0-0056-41c2-a498-9e21c314c702",
   "metadata": {
    "execution": {
     "iopub.execute_input": "2025-09-20T22:07:42.413118Z",
     "iopub.status.busy": "2025-09-20T22:07:42.412842Z",
     "iopub.status.idle": "2025-09-20T22:07:42.418313Z",
     "shell.execute_reply": "2025-09-20T22:07:42.417276Z",
     "shell.execute_reply.started": "2025-09-20T22:07:42.413096Z"
    }
   },
   "outputs": [
    {
     "ename": "SyntaxError",
     "evalue": "invalid syntax (2612336881.py, line 1)",
     "output_type": "error",
     "traceback": [
      "\u001b[0;36m  Cell \u001b[0;32mIn[5], line 1\u001b[0;36m\u001b[0m\n\u001b[0;31m    cd ~/AAI540-Final-Project-Group5   # go to your repo folder\u001b[0m\n\u001b[0m       ^\u001b[0m\n\u001b[0;31mSyntaxError\u001b[0m\u001b[0;31m:\u001b[0m invalid syntax\n"
     ]
    }
   ],
   "source": []
  },
  {
   "cell_type": "markdown",
   "id": "b99dd644-cec3-4dc4-8809-10d36939b1a5",
   "metadata": {},
   "source": [
    "## Data Summary"
   ]
  }
 ],
 "metadata": {
  "kernelspec": {
   "display_name": "Python 3 (ipykernel)",
   "language": "python",
   "name": "python3"
  },
  "language_info": {
   "codemirror_mode": {
    "name": "ipython",
    "version": 3
   },
   "file_extension": ".py",
   "mimetype": "text/x-python",
   "name": "python",
   "nbconvert_exporter": "python",
   "pygments_lexer": "ipython3",
   "version": "3.12.9"
  }
 },
 "nbformat": 4,
 "nbformat_minor": 5
}
